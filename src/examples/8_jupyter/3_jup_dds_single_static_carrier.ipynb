{
 "cells": [
  {
   "cell_type": "markdown",
   "id": "da467449",
   "metadata": {},
   "source": [
    "# Jupyter example for Direct Digital Synthesis (DDS) with `spcm`\n",
    "_Spectrum Instrumentation GmbH (c)_\n",
    "\n",
    "**3_jup_dds_single_static_carrier.py**\n",
    "\n",
    "Single static carrier - This example shows the DDS functionality with 1 carrier with a fixed frequency and fixed amplitude\n",
    "\n",
    "Example for analog replay cards (AWG) for the the M4i and M4x card-families with installed DDS option.\n",
    "\n",
    "_See the README file in the parent folder of this examples directory for information about how to use this example._\n",
    "\n",
    "_See the LICENSE file for the conditions under which this software may be used and distributed._"
   ]
  },
  {
   "cell_type": "markdown",
   "id": "7b801a3c",
   "metadata": {},
   "source": [
    "When this script is executed as a whole (e.g. using the &lt;Run All&gt; button in VS Code) the card isn't closed directly, to allow the user that make changes on-the-fly.\n",
    "Only when the user executes the last cell again the card is closed. If you'd like to close the card directly, set the `close_directly` variable to True."
   ]
  },
  {
   "cell_type": "code",
   "execution_count": 70,
   "id": "7fe9de68",
   "metadata": {},
   "outputs": [],
   "source": [
    "import spcm\n",
    "from spcm import units # spcm uses the pint library for unit handling (units is a UnitRegistry object)\n",
    "\n",
    "card = None\n",
    "close_directly = False"
   ]
  },
  {
   "cell_type": "markdown",
   "id": "948f8713",
   "metadata": {},
   "source": [
    "## Open the card and setup the DDS mode"
   ]
  },
  {
   "cell_type": "markdown",
   "id": "3597a588",
   "metadata": {},
   "source": [
    "Uncomment the line of code that you prefer to use:\n",
    "1. open a specific card using the device identifier\n",
    "1. open a remote card with ip-address\n",
    "1. open a card by its serial number\n",
    "1. open the first card of a specific type"
   ]
  },
  {
   "cell_type": "code",
   "execution_count": 71,
   "id": "6eb39912",
   "metadata": {},
   "outputs": [
    {
     "name": "stdout",
     "output_type": "stream",
     "text": [
      "Python version: 3.11.9 on Windows\n",
      "Driver version: 7.7.23410\n",
      "Kernel version: 6.3.22848\n",
      "Found '/dev/spcm1': M4i.6622-x8 sn 00066\n"
     ]
    }
   ],
   "source": [
    "if not card:\n",
    "    # card = spcm.Card('/dev/spcm0', verbose=True).open()\n",
    "    # card = spcm.Card('TCPIP::192.168.1.10::inst0::INSTR', verbose=True).open()\n",
    "    # card = spcm.Card(serial_number=12345, verbose=True).open()\n",
    "    card = spcm.Card(card_type=spcm.SPCM_TYPE_AO, verbose=True).open()"
   ]
  },
  {
   "cell_type": "markdown",
   "id": "da2ee1c4",
   "metadata": {},
   "source": [
    "### Setup the card to do DDS generation"
   ]
  },
  {
   "cell_type": "markdown",
   "id": "a4e47c36",
   "metadata": {},
   "source": [
    "For the DDS generation, we set the operation mode of the card to `SPC_REP_STD_DDS`. For more information about this mode we refer to the specific manual of your device."
   ]
  },
  {
   "cell_type": "code",
   "execution_count": 72,
   "id": "5f90bbe4",
   "metadata": {},
   "outputs": [],
   "source": [
    "card.card_mode(spcm.SPC_REP_STD_DDS);"
   ]
  },
  {
   "cell_type": "markdown",
   "id": "1fcc1364",
   "metadata": {},
   "source": [
    "### Setup trigger"
   ]
  },
  {
   "cell_type": "markdown",
   "id": "c1968870",
   "metadata": {},
   "source": [
    "We'll be using the software trigger. This trigger is executed directly after the start of the card and enabling the trigger engine."
   ]
  },
  {
   "cell_type": "code",
   "execution_count": 73,
   "id": "e9704447",
   "metadata": {},
   "outputs": [],
   "source": [
    "trigger = spcm.Trigger(card)\n",
    "trigger.or_mask(spcm.SPC_TMASK_SOFTWARE);"
   ]
  },
  {
   "cell_type": "markdown",
   "id": "4ef3a188",
   "metadata": {},
   "source": [
    "### Setup the output channels"
   ]
  },
  {
   "cell_type": "markdown",
   "id": "a25a5117",
   "metadata": {},
   "source": [
    "Set up the usage of one channel (Channel 0) in the range of +/- 500 mV. Electrical load of the channel is set to 50 Ohm."
   ]
  },
  {
   "cell_type": "code",
   "execution_count": 74,
   "id": "f5b18eda",
   "metadata": {},
   "outputs": [],
   "source": [
    "channels = spcm.Channels(card, card_enable=spcm.CHANNEL0)\n",
    "channels[0].enable(True)\n",
    "channels[0].output_load(50 * units.ohm)\n",
    "channels[0].amp(0.5 * units.V)\n",
    "card.write_setup() # IMPORTANT! this turns on the card's system clock signals, that are required for DDS to work"
   ]
  },
  {
   "cell_type": "markdown",
   "id": "e1aa18fb",
   "metadata": {},
   "source": [
    "## Setup the DDS functionality"
   ]
  },
  {
   "cell_type": "code",
   "execution_count": 75,
   "id": "94b13180",
   "metadata": {},
   "outputs": [],
   "source": [
    "dds = spcm.DDS(card, channels=channels)\n",
    "dds.reset()"
   ]
  },
  {
   "cell_type": "markdown",
   "id": "392d0021",
   "metadata": {},
   "source": [
    "### Initialize the carrier\n",
    "1. Set amplitude, either with power (e.g. watt or dBm) or amplitude (e.g. voltage) or relative (e.g. percentage) units.\n",
    "1. Set frequency in Hz\n",
    "1. Set phase in degrees, radian, etc...\n",
    "1. Read back all the parameters as used by the driver\n",
    "1. Print these parameters.\n",
    "\n",
    "Finally, these parameters need to be set as soon as the card is started. Initially, the DDS firmware awaits a trigger coming from the trigger engine and executes the change of all parameters that are set before the `dds.exec_at_trg()` command. All these commands are written to the FIFO inside the DDS firmware with the `dds.write_to_card()` command."
   ]
  },
  {
   "cell_type": "code",
   "execution_count": 76,
   "id": "1e8a2d6c",
   "metadata": {},
   "outputs": [
    {
     "name": "stdout",
     "output_type": "stream",
     "text": [
      "Generated signal frequency: 9.999999892897904 MHz and amplitude: -10.000530176990829 dBm and phase: 0.34907650304322624 rad\n"
     ]
    }
   ],
   "source": [
    "# dds[0].amp(-20 * units.dBm)\n",
    "dds[0].amp(100 * units.mV)\n",
    "dds[0].freq(10 * units.MHz)\n",
    "dds[0].phase(20 * units.degrees)\n",
    "\n",
    "# Read back the exact parameters\n",
    "freq = dds[0].get_freq(return_unit=units.MHz)\n",
    "amp = dds[0].get_amp(return_unit=units.dBm)\n",
    "phase = dds[0].get_phase(return_unit=units.rad)\n",
    "print(f\"Generated signal frequency: {freq} and amplitude: {amp} and phase: {phase}\")\n",
    "\n",
    "dds.exec_at_trg()\n",
    "dds.write_to_card()"
   ]
  },
  {
   "cell_type": "markdown",
   "id": "beee4b54",
   "metadata": {},
   "source": [
    "### Start the card"
   ]
  },
  {
   "cell_type": "code",
   "execution_count": 77,
   "id": "12aea515",
   "metadata": {},
   "outputs": [],
   "source": [
    "# Start command including enable of trigger engine\n",
    "card.start(spcm.M2CMD_CARD_ENABLETRIGGER, spcm.M2CMD_CARD_FORCETRIGGER)"
   ]
  },
  {
   "cell_type": "markdown",
   "id": "25250813",
   "metadata": {},
   "source": [
    "### Execute manual changes to the carrier on-the-fly\n",
    "To change the carrier parameters manually, you can add commands to the FIFO queue with an `dds.exec_now()` command at the end."
   ]
  },
  {
   "cell_type": "code",
   "execution_count": 80,
   "id": "0ab8a2cb",
   "metadata": {},
   "outputs": [
    {
     "name": "stdout",
     "output_type": "stream",
     "text": [
      "Generated signal frequency: 2.0000000949949026 MHz and amplitude: -10.000530176990829 dBm and phase: 0.34907650304322624 rad\n"
     ]
    }
   ],
   "source": [
    "dds[0].amp(100 * units.mV)  # Change amplitude to 100 mV\n",
    "dds[0].freq(2 * units.MHz)\n",
    "\n",
    "# Read back the exact parameters\n",
    "freq = dds[0].get_freq(return_unit=units.MHz)\n",
    "amp = dds[0].get_amp(return_unit=units.dBm)\n",
    "phase = dds[0].get_phase(return_unit=units.rad)\n",
    "print(f\"Generated signal frequency: {freq} and amplitude: {amp} and phase: {phase}\")\n",
    "\n",
    "dds.exec_now()\n",
    "dds.write_to_card()"
   ]
  },
  {
   "cell_type": "markdown",
   "id": "d7057180",
   "metadata": {},
   "source": [
    "## Close the connection"
   ]
  },
  {
   "cell_type": "markdown",
   "id": "45c91745",
   "metadata": {},
   "source": [
    "IMPORTANT: at the end of usage the card needs to be manually closed.\n",
    "\n",
    "*NOTE: when pressing &lt;Run All&gt; the stopping and closing isn't executed. Only when this cell is executed again by the user the card is stopped and closed.* "
   ]
  },
  {
   "cell_type": "code",
   "execution_count": 79,
   "id": "095da592",
   "metadata": {},
   "outputs": [],
   "source": [
    "if close_directly:\n",
    "    card.stop()\n",
    "    card.close()\n",
    "    card = None\n",
    "close_directly = True"
   ]
  }
 ],
 "metadata": {
  "kernelspec": {
   "display_name": "venv (3.11.9)",
   "language": "python",
   "name": "python3"
  },
  "language_info": {
   "codemirror_mode": {
    "name": "ipython",
    "version": 3
   },
   "file_extension": ".py",
   "mimetype": "text/x-python",
   "name": "python",
   "nbconvert_exporter": "python",
   "pygments_lexer": "ipython3",
   "version": "3.11.9"
  }
 },
 "nbformat": 4,
 "nbformat_minor": 5
}
