{
 "cells": [
  {
   "cell_type": "markdown",
   "id": "da467449",
   "metadata": {},
   "source": [
    "# Jupyter example for generation with `spcm`\n",
    "_Spectrum Instrumentation GmbH (c)_\n",
    "\n",
    "**2_jup_gen_single.py**\n",
    "\n",
    "Shows a simple standard mode example using only the few necessary commands.\n",
    "* There will be a saw-tooth signal generated on channel 0.\n",
    "* This signal will have an amplitude of 1 V.\n",
    "\n",
    "Example for analog replay cards (AWG) for the the M2p, M4i, M4x and M5i card-families.\n",
    "\n",
    "_See the README file in the parent folder of this examples directory for information about how to use this example._\n",
    "\n",
    "_See the LICENSE file for the conditions under which this software may be used and distributed._"
   ]
  },
  {
   "cell_type": "code",
   "execution_count": null,
   "id": "7fe9de68",
   "metadata": {},
   "outputs": [],
   "source": [
    "import spcm\n",
    "from spcm import units # spcm uses the pint library for unit handling (units is a UnitRegistry object)\n",
    "\n",
    "import numpy as np"
   ]
  },
  {
   "cell_type": "markdown",
   "id": "948f8713",
   "metadata": {},
   "source": [
    "## Open the card and setup the acquisition"
   ]
  },
  {
   "cell_type": "markdown",
   "id": "4305117c",
   "metadata": {},
   "source": [
    "* if you want to open a specific card using the device identifier"
   ]
  },
  {
   "cell_type": "code",
   "execution_count": 2,
   "id": "5faa35f5",
   "metadata": {},
   "outputs": [],
   "source": [
    "# card = spcm.Card('/dev/spcm0', verbose=True).open()"
   ]
  },
  {
   "cell_type": "markdown",
   "id": "f65b5469",
   "metadata": {},
   "source": [
    "* if you want to open a remote card with ip-address"
   ]
  },
  {
   "cell_type": "code",
   "execution_count": 3,
   "id": "b861c21b",
   "metadata": {},
   "outputs": [],
   "source": [
    "# card = spcm.Card('TCPIP::192.168.1.10::inst0::INSTR', verbose=True).open()"
   ]
  },
  {
   "cell_type": "markdown",
   "id": "3c12115e",
   "metadata": {},
   "source": [
    "* if you want to open a card by its serial number"
   ]
  },
  {
   "cell_type": "code",
   "execution_count": 4,
   "id": "26210e39",
   "metadata": {},
   "outputs": [],
   "source": [
    "# card = spcm.Card(serial_number=12345, verbose=True).open()"
   ]
  },
  {
   "cell_type": "markdown",
   "id": "b8a1df94",
   "metadata": {},
   "source": [
    "* if you want to open the first card of a specific type"
   ]
  },
  {
   "cell_type": "code",
   "execution_count": 5,
   "id": "3e8807dd",
   "metadata": {},
   "outputs": [
    {
     "name": "stdout",
     "output_type": "stream",
     "text": [
      "Python version: 3.11.9 on Windows\n",
      "Driver version: 7.7.23410\n",
      "Kernel version: 0.0.0\n",
      "Found '/dev/spcm0': M4i.6620-x8 sn 100000\n"
     ]
    }
   ],
   "source": [
    "card = spcm.Card(card_type=spcm.SPCM_TYPE_AO, verbose=True).open()"
   ]
  },
  {
   "cell_type": "markdown",
   "id": "da2ee1c4",
   "metadata": {},
   "source": [
    "### Setup the card to do data acquisition"
   ]
  },
  {
   "cell_type": "markdown",
   "id": "a4e47c36",
   "metadata": {},
   "source": [
    "For the acquisition, we set the operation mode of the card to `SPC_REP_STD_CONTINUOUS`. For more information about this mode we refer to the specific manual of your device. The card timeout is set to 10 s, this means that if it takes longer than 5 seconds to acquire the data after the card was started there will be an interrupt and the `spcm` package will throw an `spcm.SpcmTimeout` exception."
   ]
  },
  {
   "cell_type": "code",
   "execution_count": null,
   "id": "5f90bbe4",
   "metadata": {},
   "outputs": [
    {
     "data": {
      "text/plain": [
       "0"
      ]
     },
     "execution_count": 6,
     "metadata": {},
     "output_type": "execute_result"
    }
   ],
   "source": [
    "card.card_mode(spcm.SPC_REP_STD_CONTINUOUS)\n",
    "card.timeout(10 * units.s); # 10 s; 0 = disable timeout functionality\n",
    "card.loops(0); # 0 = loop endless; >0 = n times"
   ]
  },
  {
   "cell_type": "markdown",
   "id": "4ef3a188",
   "metadata": {},
   "source": [
    "### Setup the input channels"
   ]
  },
  {
   "cell_type": "markdown",
   "id": "a25a5117",
   "metadata": {},
   "source": [
    "Set up the usage of one channel (Channel 0) in the range of +/- 1000 mV. Electrical load of the channel is set to 50 Ohm."
   ]
  },
  {
   "cell_type": "code",
   "execution_count": null,
   "id": "f5b18eda",
   "metadata": {},
   "outputs": [],
   "source": [
    "channels = spcm.Channels(card, card_enable=spcm.CHANNEL0)\n",
    "channels.enable(True);\n",
    "channels.output_load(units.highZ);\n",
    "channels.amp(1 * units.V);"
   ]
  },
  {
   "cell_type": "markdown",
   "id": "65467bf4",
   "metadata": {},
   "source": [
    "### Setup the clock"
   ]
  },
  {
   "cell_type": "markdown",
   "id": "5c77fd5c",
   "metadata": {},
   "source": [
    "The clock is set to using the internal oscillator with PLL to generate the required `10%` of the maximum sampling rate. The clock output is disabled."
   ]
  },
  {
   "cell_type": "code",
   "execution_count": null,
   "id": "20945271",
   "metadata": {},
   "outputs": [
    {
     "data": {
      "text/plain": [
       "0"
      ]
     },
     "execution_count": 8,
     "metadata": {},
     "output_type": "execute_result"
    }
   ],
   "source": [
    "clock = spcm.Clock(card)\n",
    "clock.sample_rate(10 * units.percent);\n",
    "clock.clock_output(False);"
   ]
  },
  {
   "cell_type": "markdown",
   "id": "806c16d5",
   "metadata": {},
   "source": [
    "### Setup trigger"
   ]
  },
  {
   "cell_type": "markdown",
   "id": "4232990a",
   "metadata": {},
   "source": [
    "We'll be using the software trigger. This trigger is executed directly after the start of the card and enabling the trigger engine."
   ]
  },
  {
   "cell_type": "code",
   "execution_count": null,
   "id": "46e4ac7f",
   "metadata": {},
   "outputs": [
    {
     "data": {
      "text/plain": [
       "1"
      ]
     },
     "execution_count": 9,
     "metadata": {},
     "output_type": "execute_result"
    }
   ],
   "source": [
    "trigger = spcm.Trigger(card)\n",
    "trigger.or_mask(spcm.SPC_TMASK_SOFTWARE);"
   ]
  },
  {
   "cell_type": "markdown",
   "id": "fc666fa5",
   "metadata": {},
   "source": [
    "### Define the buffer for data transfer from the PC to the card and start the transfer"
   ]
  },
  {
   "cell_type": "markdown",
   "id": "850f4acb",
   "metadata": {},
   "source": [
    "Setup a buffer in RAM to generate 1 MebiSamples (1024*1024 Samples) of data. The DMA transfer is started."
   ]
  },
  {
   "cell_type": "code",
   "execution_count": 10,
   "id": "cc985f12",
   "metadata": {},
   "outputs": [
    {
     "name": "stdout",
     "output_type": "stream",
     "text": [
      "Starting the DMA transfer and waiting until data is in board memory\n",
      "... data transfer started\n"
     ]
    }
   ],
   "source": [
    "num_samples = 1 * units.MiS\n",
    "\n",
    "data_transfer = spcm.DataTransfer(card)\n",
    "if data_transfer.bytes_per_sample != 2: raise spcm.SpcmException(text=\"Non 16-bit DA not supported\")\n",
    "data_transfer.memory_size(num_samples) # size of memory on the card\n",
    "data_transfer.allocate_buffer(num_samples) # size of buffer in pc RAM\n",
    "\n",
    "# generate output data (or alternatively load data from file)\n",
    "num_samples_magnitude = num_samples.to_base_units().magnitude\n",
    "# simple ramp for analog output cards\n",
    "data_transfer.buffer[:] = np.arange(-num_samples_magnitude//2, num_samples_magnitude//2).astype(np.int16) # saw-tooth signal\n",
    "\n",
    "data_transfer.start_buffer_transfer(spcm.M2CMD_DATA_STARTDMA, spcm.M2CMD_DATA_WAITDMA) # Wait until the writing to buffer has been done"
   ]
  },
  {
   "cell_type": "code",
   "execution_count": 11,
   "id": "12aea515",
   "metadata": {},
   "outputs": [
    {
     "name": "stdout",
     "output_type": "stream",
     "text": [
      "Starting the card and waiting for ready interrupt\n",
      "(continuous and single restart will have timeout)\n",
      "-> The 10 seconds timeout have passed and the card is stopped\n"
     ]
    }
   ],
   "source": [
    "print(\"Starting the card and waiting for ready interrupt\\n(continuous and single restart will have timeout)\")\n",
    "try:\n",
    "    card.start(spcm.M2CMD_CARD_ENABLETRIGGER, spcm.M2CMD_CARD_WAITREADY)\n",
    "except spcm.SpcmTimeout as timeout:\n",
    "    print(\"-> The 10 seconds timeout have passed and the card is stopped\")\n",
    "\n",
    "# Without the above \"spcm.M2CMD_CARD_WAITREADY\" flag you can do things here in parallel\n",
    "# and later stop the replaying with \"card.stop()\""
   ]
  }
 ],
 "metadata": {
  "kernelspec": {
   "display_name": "venv (3.11.9)",
   "language": "python",
   "name": "python3"
  },
  "language_info": {
   "codemirror_mode": {
    "name": "ipython",
    "version": 3
   },
   "file_extension": ".py",
   "mimetype": "text/x-python",
   "name": "python",
   "nbconvert_exporter": "python",
   "pygments_lexer": "ipython3",
   "version": "3.11.9"
  }
 },
 "nbformat": 4,
 "nbformat_minor": 5
}
