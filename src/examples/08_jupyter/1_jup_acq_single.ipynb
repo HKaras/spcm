{
 "cells": [
  {
   "cell_type": "markdown",
   "id": "2b2a06fe",
   "metadata": {},
   "source": [
    "# Jupyter example for acquisition with `spcm`\n",
    "_Spectrum Instrumentation GmbH (c)_\n",
    "\n",
    "**1_jup_acq_single.py**\n",
    "\n",
    "Shows a simple Standard acquisition (recording) mode example using only the few necessary commands\n",
    "* connect a function generator that generates a sine wave with 10-100 kHz frequency and 200 mV amplitude to channel 0\n",
    "\n",
    "Example for analog recording cards (digitizers) for the the M2p, M4i, M4x and M5i card-families.\n",
    "\n",
    "_See the README file in the parent folder of this examples directory for information about how to use this example._\n",
    "\n",
    "_See the LICENSE file for the conditions under which this software may be used and distributed._"
   ]
  },
  {
   "cell_type": "markdown",
   "id": "5daf1833",
   "metadata": {},
   "source": [
    "## Import libraries\n",
    "`spcm` the main library for communicating with the card. `units` sub-module from the `spcm` package for unit support. `numpy` for analysing the acquired data. `matplotlib` for plotting the acquired data."
   ]
  },
  {
   "cell_type": "code",
   "execution_count": 1,
   "id": "40b6203b",
   "metadata": {},
   "outputs": [],
   "source": [
    "import spcm\n",
    "from spcm import units # spcm uses the pint library for unit handling (units is a UnitRegistry object)\n",
    "\n",
    "import numpy as np\n",
    "import matplotlib.pyplot as plt\n",
    "\n",
    "card = None"
   ]
  },
  {
   "cell_type": "markdown",
   "id": "8792dfb0",
   "metadata": {},
   "source": [
    "## Open the card and setup the acquisition"
   ]
  },
  {
   "cell_type": "markdown",
   "id": "c2c6149a",
   "metadata": {},
   "source": [
    "Uncomment the line of code that you prefer to use:\n",
    "1. if you want to open a specific card using the device identifier\n",
    "1. if you want to open a remote card with ip-address\n",
    "1. if you want to open a card by its serial number\n",
    "1. if you want to open the first card of a specific type"
   ]
  },
  {
   "cell_type": "code",
   "execution_count": 2,
   "id": "f2fdf4a7",
   "metadata": {},
   "outputs": [
    {
     "name": "stdout",
     "output_type": "stream",
     "text": [
      "Python version: 3.11.9 on Windows\n",
      "Driver version: 7.7.23511\n",
      "Kernel version: 6.3.22848\n",
      "Found '/dev/spcm0': M2p.5968-x4 sn 00060\n"
     ]
    }
   ],
   "source": [
    "if not card:\n",
    "    # card = spcm.Card('/dev/spcm0', verbose=True).open()\n",
    "    # card = spcm.Card('TCPIP::192.168.1.10::inst0::INSTR', verbose=True).open()\n",
    "    # card = spcm.Card(serial_number=12345, verbose=True).open()\n",
    "    card = spcm.Card(card_type=spcm.SPCM_TYPE_AI, verbose=True).open()"
   ]
  },
  {
   "cell_type": "markdown",
   "id": "0cefc271",
   "metadata": {},
   "source": [
    "### Setup the card to do data acquisition"
   ]
  },
  {
   "cell_type": "markdown",
   "id": "46954287",
   "metadata": {},
   "source": [
    "For the acquisition, we set the operation mode of the card to `SPC_REC_STD_SINGLE`. For more information about this mode we refer to the specific manual of your device. The card timeout is set to 5 s, this means that if it takes longer than 5 seconds to acquire the data after the card was started there will be an interrupt and the `spcm` package will throw an `spcm.SpcmTimeout` exception."
   ]
  },
  {
   "cell_type": "code",
   "execution_count": 3,
   "id": "034590a4",
   "metadata": {},
   "outputs": [],
   "source": [
    "card.card_mode(spcm.SPC_REC_STD_SINGLE)\n",
    "timeout = card.timeout(5 * units.s)"
   ]
  },
  {
   "cell_type": "markdown",
   "id": "8c6ea589",
   "metadata": {},
   "source": [
    "### Setup trigger"
   ]
  },
  {
   "cell_type": "markdown",
   "id": "7f619d3b",
   "metadata": {},
   "source": [
    "We'll be using a channel trigger and this means that both the `OR`- and `AND`-trigger masks (see your device manual) will be set to `SPC_TMASK_NONE`."
   ]
  },
  {
   "cell_type": "code",
   "execution_count": 4,
   "id": "6a29fcc9",
   "metadata": {},
   "outputs": [],
   "source": [
    "trigger = spcm.Trigger(card)\n",
    "trigger.or_mask(spcm.SPC_TMASK_NONE)\n",
    "trigger.and_mask(spcm.SPC_TMASK_NONE);"
   ]
  },
  {
   "cell_type": "markdown",
   "id": "153b6cfa",
   "metadata": {},
   "source": [
    "### Setup the clock"
   ]
  },
  {
   "cell_type": "markdown",
   "id": "905639b7",
   "metadata": {},
   "source": [
    "The clock is set to using the internal oscillator with PLL to generate the required `20 MHz` sampling rate."
   ]
  },
  {
   "cell_type": "code",
   "execution_count": 5,
   "id": "f8831361",
   "metadata": {},
   "outputs": [
    {
     "name": "stdout",
     "output_type": "stream",
     "text": [
      "Used sample rate: 20.00 megahertz\n"
     ]
    }
   ],
   "source": [
    "clock = spcm.Clock(card)\n",
    "clock.mode(spcm.SPC_CM_INTPLL)\n",
    "sample_rate = clock.sample_rate(20 * units.MHz, return_unit=units.MHz)\n",
    "print(f'Used sample rate: {sample_rate:.2f}')"
   ]
  },
  {
   "cell_type": "markdown",
   "id": "48898e6c",
   "metadata": {},
   "source": [
    "### Setup the input channels"
   ]
  },
  {
   "cell_type": "markdown",
   "id": "afed2eae",
   "metadata": {},
   "source": [
    "Set up the usage of one channel (Channel 0) in the range of +/- 200 mV and with an offset of 0 V. Electrical termination of the channel is set to 50 Ohm."
   ]
  },
  {
   "cell_type": "code",
   "execution_count": 6,
   "id": "749a1178",
   "metadata": {},
   "outputs": [],
   "source": [
    "channel0, = spcm.Channels(card, card_enable=spcm.CHANNEL0)\n",
    "channel0.amp(200 * units.mV);\n",
    "channel0.offset(0 * units.mV);\n",
    "channel0.termination(1);"
   ]
  },
  {
   "cell_type": "markdown",
   "id": "ac6f4b12",
   "metadata": {},
   "source": [
    "### Setup the channel triggering"
   ]
  },
  {
   "cell_type": "markdown",
   "id": "4235b87e",
   "metadata": {},
   "source": [
    "Setup channel triggering for channel 0 and look for a positive slope crossing the 0 volt level."
   ]
  },
  {
   "cell_type": "code",
   "execution_count": 7,
   "id": "802e061e",
   "metadata": {},
   "outputs": [],
   "source": [
    "trigger.ch_or_mask0(channel0.ch_mask())\n",
    "trigger.ch_mode(channel0, spcm.SPC_TM_POS)\n",
    "trigger.ch_level0(channel0, 0 * units.mV, return_unit=units.mV);"
   ]
  },
  {
   "cell_type": "markdown",
   "id": "7410f2da",
   "metadata": {},
   "source": [
    "### Initialize the buffer for data transfer from the card to the PC"
   ]
  },
  {
   "cell_type": "markdown",
   "id": "9dfe4c2c",
   "metadata": {},
   "source": [
    "Setup a buffer in RAM to save 100 microseconds of data, of which 20 microseconds are from before the trigger and 80 microsecond are from after the trigger. At 20 MS/s sampling rate this corresponds to 20000 samples."
   ]
  },
  {
   "cell_type": "code",
   "execution_count": 8,
   "id": "ee1f5e33",
   "metadata": {},
   "outputs": [],
   "source": [
    "data_transfer = spcm.DataTransfer(card)\n",
    "data_transfer.duration(100*units.us, post_trigger_duration=80*units.us);"
   ]
  },
  {
   "cell_type": "markdown",
   "id": "341c50ba",
   "metadata": {},
   "source": [
    "## Acquire the data"
   ]
  },
  {
   "cell_type": "markdown",
   "id": "d3b125a0",
   "metadata": {},
   "source": [
    "### Start the acquisition"
   ]
  },
  {
   "cell_type": "markdown",
   "id": "aac52763",
   "metadata": {},
   "source": [
    "The card is started and the trigger engine is enabled. This command is waiting until all the data is acquired."
   ]
  },
  {
   "cell_type": "code",
   "execution_count": 9,
   "id": "ecc454a9",
   "metadata": {},
   "outputs": [
    {
     "name": "stdout",
     "output_type": "stream",
     "text": [
      "Finished acquiring...\n"
     ]
    }
   ],
   "source": [
    "card.start(spcm.M2CMD_CARD_ENABLETRIGGER, spcm.M2CMD_CARD_WAITREADY)\n",
    "print(\"Finished acquiring...\")"
   ]
  },
  {
   "cell_type": "markdown",
   "id": "6c9bcd1a",
   "metadata": {},
   "source": [
    "### Start the transfer"
   ]
  },
  {
   "cell_type": "code",
   "execution_count": 10,
   "id": "62dfb199",
   "metadata": {},
   "outputs": [
    {
     "name": "stdout",
     "output_type": "stream",
     "text": [
      "Starting the DMA transfer and waiting until data is in board memory\n",
      "... data transfer started\n"
     ]
    }
   ],
   "source": [
    "data_transfer.start_buffer_transfer(spcm.M2CMD_DATA_STARTDMA, spcm.M2CMD_DATA_WAITDMA)"
   ]
  },
  {
   "cell_type": "markdown",
   "id": "1020731f",
   "metadata": {},
   "source": [
    "### Plot the data"
   ]
  },
  {
   "cell_type": "markdown",
   "id": "4376379f",
   "metadata": {},
   "source": [
    "1. Get the horizontal time data.\n",
    "1. Create a figure in Matplotlib.\n",
    "1. Convert the acquired data to electrical voltages.\n",
    "1. Print minimal and maximal data points. \n",
    "1. Plot the data with the trigger position at 0 and a line marking that position."
   ]
  },
  {
   "cell_type": "code",
   "execution_count": 11,
   "id": "c51083ef",
   "metadata": {},
   "outputs": [
    {
     "name": "stdout",
     "output_type": "stream",
     "text": [
      "Channel 0\n",
      "\tMinimum: -0.2 V\n",
      "\tMaximum: 0.2 V\n"
     ]
    },
    {
     "data": {
      "image/png": "[encoded data removed]",
      "text/plain": [
       "<Figure size 640x480 with 1 Axes>"
      ]
     },
     "metadata": {},
     "output_type": "display_data"
    }
   ],
   "source": [
    "time_data_s = data_transfer.time_data()\n",
    "fig, ax = plt.subplots()\n",
    "unit_data_V = channel0.convert_data(data_transfer.buffer[channel0, :], units.V)\n",
    "print(channel0)\n",
    "print(\"\\tMinimum: {:.3~P}\".format(np.min(unit_data_V)))\n",
    "print(\"\\tMaximum: {:.3~P}\".format(np.max(unit_data_V)))\n",
    "ax.plot(time_data_s, unit_data_V, label=f\"{channel0}\")\n",
    "ax.yaxis.set_units(units.mV)\n",
    "ax.xaxis.set_units(units.us)\n",
    "amplitude = channel0.amp(return_unit=units.mV)\n",
    "ax.set_ylim([-channel0.amp(amplitude), channel0.amp(amplitude)])\n",
    "ax.axvline(0, color='k', linestyle='--', label='Trigger')\n",
    "ax.legend()\n",
    "plt.show()"
   ]
  },
  {
   "cell_type": "markdown",
   "id": "97c2a89a",
   "metadata": {},
   "source": [
    "## Stop the card and close the connection"
   ]
  },
  {
   "cell_type": "markdown",
   "id": "8be0d8f7",
   "metadata": {},
   "source": [
    "IMPORTANT: at the end of usage the card needs to be manually closed."
   ]
  },
  {
   "cell_type": "code",
   "execution_count": null,
   "id": "be6276eb",
   "metadata": {},
   "outputs": [],
   "source": [
    "if close_directly:\n",
    "    card.stop()\n",
    "    card.close()\n",
    "    card = None\n",
    "close_directly = True"
   ]
  }
 ],
 "metadata": {
  "kernelspec": {
   "display_name": "venv",
   "language": "python",
   "name": "python3"
  },
  "language_info": {
   "codemirror_mode": {
    "name": "ipython",
    "version": 3
   },
   "file_extension": ".py",
   "mimetype": "text/x-python",
   "name": "python",
   "nbconvert_exporter": "python",
   "pygments_lexer": "ipython3",
   "version": "3.11.9"
  }
 },
 "nbformat": 4,
 "nbformat_minor": 5
}
